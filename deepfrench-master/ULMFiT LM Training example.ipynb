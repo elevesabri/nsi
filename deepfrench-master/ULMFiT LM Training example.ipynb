{
 "cells": [
  {
   "cell_type": "code",
   "execution_count": 1,
   "metadata": {},
   "outputs": [],
   "source": [
    "%load_ext autoreload\n",
    "%autoreload 2\n",
    "from fastai import *\n",
    "from fastai.text import * "
   ]
  },
  {
   "cell_type": "code",
   "execution_count": 2,
   "metadata": {},
   "outputs": [],
   "source": [
    "PATH = Path('data/lm/')"
   ]
  },
  {
   "cell_type": "markdown",
   "metadata": {},
   "source": [
    "# Data preparation"
   ]
  },
  {
   "cell_type": "markdown",
   "metadata": {},
   "source": [
    "The data format used in this notebook has changed, to comply with the new fastai API.\n",
    "\n",
    "The new format is a CSV file with two columns:\n",
    "\n",
    "- First column: text content to train the model. Here we have 100M words for the training data + 22M words for the validation data.\n",
    "- Second column: Boolean representing if the data is for training or validation."
   ]
  },
  {
   "cell_type": "code",
   "execution_count": 3,
   "metadata": {},
   "outputs": [],
   "source": [
    "train = pd.read_csv(PATH/'train.csv', header=None, names=['label', 'content'])\n",
    "valid = pd.read_csv(PATH/'valid.csv', header=None, names=['label', 'content'])"
   ]
  },
  {
   "cell_type": "code",
   "execution_count": 4,
   "metadata": {},
   "outputs": [],
   "source": [
    "train['is_valid'] = False\n",
    "valid['is_valid'] = True"
   ]
  },
  {
   "cell_type": "code",
   "execution_count": 5,
   "metadata": {},
   "outputs": [],
   "source": [
    "df_train = train[['content', 'is_valid']]"
   ]
  },
  {
   "cell_type": "code",
   "execution_count": 6,
   "metadata": {},
   "outputs": [],
   "source": [
    "df_valid = valid[['content', 'is_valid']]"
   ]
  },
  {
   "cell_type": "code",
   "execution_count": 8,
   "metadata": {},
   "outputs": [
    {
     "data": {
      "text/plain": [
       "(                                                 content  is_valid\n",
       " 0      Guerres civiles colombiennes\\n\\nLes guerres ci...     False\n",
       " 1      Présidence de Nicolas Sarkozy\\n\\nLa présidence...     False\n",
       " 2      Planification en république populaire de Chine...     False\n",
       " 3      Worst Case Execution Time\\n\\nLe WCET ou Worst ...     False\n",
       " 4      Église Saint-Denis de Mogneville\\n\\nL'église S...     False\n",
       " 5      Église Saint-Denis de Remy\\n\\nL'église Saint-D...     False\n",
       " 6      Église Sainte-Marie-Madeleine du Bellay-en-Vex...     False\n",
       " 7      Église Sainte-Maxence de Pont-Sainte-Maxence\\n...     False\n",
       " 8      Église Saint-Didier de Villiers-le-Bel\\n\\nL'ég...     False\n",
       " 9      Église Saint-Étienne de Marly-la-Ville\\n\\nL'ég...     False\n",
       " 10     Église Sainte-Madeleine de Trie-Château\\n\\nL'é...     False\n",
       " 11     Église Saint-Germain d'Andrésy\\n\\nL'église Sai...     False\n",
       " 12     Église Saint-Germain-de-Paris de Cléry-en-Vexi...     False\n",
       " 13     Église Saint-Gervais de Pontpoint\\n\\nL'église ...     False\n",
       " 14     Église Saint-Gervais-et-Saint-Protais de Bessa...     False\n",
       " 15     Linky\\n\\nLinky est le nom du compteur électriq...     False\n",
       " 16     Person of Interest\\n\\nEn Belgique, la série es...     False\n",
       " 17     Pierres noires : Les Classes moyennes du Salut...     False\n",
       " 18     SS Edmund Fitzgerald\\n\\nSS \"Edmund Fitzgerald\"...     False\n",
       " 19     Nicholas Nickleby\\n\\nCommencé de concert avec ...     False\n",
       " 20     Église Saint-Jacques de Compiègne\\n\\nL'église ...     False\n",
       " 21     Église Saint-Josse de Parnes\\n\\nL'église Saint...     False\n",
       " 22     Église Saint-Justin de Louvres\\n\\nL'église Sai...     False\n",
       " 23     Église Saint-Leu-Saint-Gilles de Chennevières-...     False\n",
       " 24     Église Saint-Lucien d'Avernes\\n\\nL'église Sain...     False\n",
       " 25     Église Saint-Martin de Cormeilles-en-Parisis\\n...     False\n",
       " 26     Église Saint-Martin de Groslay\\n\\nL'église Sai...     False\n",
       " 27     Église Saint-Martin de L'Isle-Adam\\n\\nL'église...     False\n",
       " 28     Église Saint-Martin de Triel-sur-Seine\\n\\nL'ég...     False\n",
       " 29     Personnages de Black Butler\\n\\nCette page prés...     False\n",
       " ...                                                  ...       ...\n",
       " 14183  Le Moyen de parvenir\\n\\nLe Moyen de parvenir e...     False\n",
       " 14184  Silkworm (missile)\\n\\nLes séries Shang Yo ou S...     False\n",
       " 14185  Front républicain (Ve République)\\n\\nSous la C...     False\n",
       " 14186  Mesure à cinq temps\\n\\nLa mesure à cinq temps ...     False\n",
       " 14187  Épodes\\n\\nLes Épodes (en latin : ' ou ') sont ...     False\n",
       " 14188  Tour Saint-Rieul\\n\\nLa tour Saint-Rieul est un...     False\n",
       " 14189  Barrage de castors\\n\\nUn barrage de castors es...     False\n",
       " 14190  Histoire de la préfecture de Kumamoto\\n\\nLhist...     False\n",
       " 14191  Notes américaines\\n\\nNotes américaines, en ang...     False\n",
       " 14192  Histoire du Bayern Munich\\n\\nL'histoire du Bay...     False\n",
       " 14193  Histoire de la marine française sous Louis XV ...     False\n",
       " 14194  Fédération des jeunesses communistes de France...     False\n",
       " 14195  Alexander Zverev\\n\\nAlexander Zverev, né le à ...     False\n",
       " 14196  Grande mosaïque de Lillebonne\\n\\nLa grande mos...     False\n",
       " 14197  Faisceaux siciliens\\n\\nLes faisceaux siciliens...     False\n",
       " 14198  Équitation en France\\n\\nL‘équitation est le tr...     False\n",
       " 14199  Leopoldo López\\n\\nLeopoldo López Mendoza, né à...     False\n",
       " 14200  Affaire des caisses noires de la CDU\\n\\nL’affa...     False\n",
       " 14201  Falun Gong hors de Chine continentale\\n\\nLe Fa...     False\n",
       " 14202  Conservateur des hypothèques\\n\\nLe conservateu...     False\n",
       " 14203  Viticulture en Égypte\\n\\nLa viticulture en Égy...     False\n",
       " 14204  Personnages du Visiteur du futur\\n\\nCet articl...     False\n",
       " 14205  Traversée des Ardennes\\n\\nLa traversée des Ard...     False\n",
       " 14206  Bronzes chinois\\n\\nLes bronzes chinois sont un...     False\n",
       " 14207  Littérature néerlandaise de la première moitié...     False\n",
       " 14208  Attaque du Prince of Wales et du Repulse\\n\\nL'...     False\n",
       " 14209  Statuette de Ganymède\\n\\nLa statuette de Ganym...     False\n",
       " 14210  Euromaïdan\\n\\nEuromaïdan (en , ' ; en , ') est...     False\n",
       " 14211  Conquête romaine de l'Étrurie\\n\\nLa conquête r...     False\n",
       " 14212  Bataille des Deux Morins\\n\\nLa bataille des De...     False\n",
       " \n",
       " [14213 rows x 2 columns],\n",
       "                                                 content  is_valid\n",
       " 0     Intouchables (film)\\n\\nIntouchables est un fil...      True\n",
       " 1     Classe Rivadavia\\n\\nLa classe Rivadavia était ...      True\n",
       " 2     Anders Behring Breivik\\n\\nFjotolf Hansen, anci...      True\n",
       " 3     Église Saint-Denis de Sérifontaine\\n\\nL'église...      True\n",
       " 4     Église Saint-Germain-de-Paris d'Hardricourt\\n\\...      True\n",
       " 5     Église Saint-Laurent de Beaumont-sur-Oise\\n\\nL...      True\n",
       " 6     Église Saint-Léger de Jagny-sous-Bois\\n\\nL'égl...      True\n",
       " 7     Église Saint-Martin d'Attainville\\n\\nL'église ...      True\n",
       " 8     Église Saint-Martin de Rousseloy\\n\\nL'église S...      True\n",
       " 9     Règle d'or budgétaire\\n\\nLa règle d'or budgéta...      True\n",
       " 10    Ghost (groupe)\\n\\nGhost est un groupe de heavy...      True\n",
       " 11    Configuration d'aile\\n\\nDepuis les débuts de l...      True\n",
       " 12    Fort de Buenos Aires\\n\\nLe fort de Buenos Aire...      True\n",
       " 13    Rapport Palmer\\n\\nLe rapport Palmer est le rés...      True\n",
       " 14    Le Village indien\\n\\nLe Village indien (\"\") es...      True\n",
       " 15    Dubaï (ville)\\n\\nDubaï ou Doubaï est la premiè...      True\n",
       " 16    Kinot\\n\\nLes kinot (hébreu : קינות \"qinot\" « c...      True\n",
       " 17    Société interculturelle\\n\\nLa société intercul...      True\n",
       " 18    Remparts de Senlis\\n\\nCet article présente l'e...      True\n",
       " 19    Insurrection de Palerme\\n\\nL’Insurrection de P...      True\n",
       " 20    Val-d'Isère\\n\\nVal-d'Isère, également écrite V...      True\n",
       " 21    Dragonica\\n\\nDragonica est un MMORPG 3D full s...      True\n",
       " 22    Spam\\n\\nLe spam, courriel indésirable ou pourr...      True\n",
       " 23    Special Night Squads\\n\\nLes (sans dénomination...      True\n",
       " 24    Yingluck Shinawatra\\n\\nYingluck Shinawatra (en...      True\n",
       " 25    Couvent des Feuillants\\n\\nLe monastère royal d...      True\n",
       " 26    Affaire Caylee Anthony\\n\\nL'affaire Caylee Ant...      True\n",
       " 27    LK (véhicule spatial)\\n\\nLe LK (\"russe \", \"Lou...      True\n",
       " 28    Inazuma Eleven GO\\n\\nLa première saison de l'a...      True\n",
       " 29    Puits Arthur-de-Buyer\\n\\nLe puits Arthur-de-Bu...      True\n",
       " ...                                                 ...       ...\n",
       " 6175  Mini (2001-2006)\\n\\nLa Mini est une automobile...      True\n",
       " 6176  Méthoprène\\n\\nLe méthoprène ou (E, E)-(RS)-11-...      True\n",
       " 6177  Currie Cup (rugby à XV)\\n\\nLa Currie Cup, égal...      True\n",
       " 6178  Tuerie de Chevaline\\n\\nLa tuerie de Chevaline ...      True\n",
       " 6179  ReDRagon\\n\\nLes reDRagon sont une équipe de ca...      True\n",
       " 6180  Histoire de l'Ipswich Town Football Club\\n\\nIp...      True\n",
       " 6181  Heidegger et le problème de l'espace\\n\\nDans s...      True\n",
       " 6182  Système attentionnel superviseur\\n\\nLes foncti...      True\n",
       " 6183  Grand Prix automobile d'Espagne 2014\\n\\nLe Gra...      True\n",
       " 6184  Liste d'organisations non gouvernementales en ...      True\n",
       " 6185  Thomas Drake\\n\\nThomas Andrews Drake, né le en...      True\n",
       " 6186  Alcoolisme en Russie\\n\\nL'alcoolisme en Russie...      True\n",
       " 6187  Ghetto de Kletsk\\n\\nLe Ghetto de Kletsk (en hé...      True\n",
       " 6188  Syndrome du défilé thoracobrachial\\n\\nLe syndr...      True\n",
       " 6189  Constitution tunisienne de 2014\\n\\nLa Constitu...      True\n",
       " 6190  Ultimatum de l'Union soviétique à la Lituanie\\...      True\n",
       " 6191  Énergie aux Pays-Bas\\n\\nLe secteur de l'énergi...      True\n",
       " 6192  Interstate 95 dans le Maryland\\n\\nL'Interstate...      True\n",
       " 6193  Construction agricole\\n\\nUne construction agri...      True\n",
       " 6194  Grand Prix automobile de Bahreïn 2014\\n\\nLe Gr...      True\n",
       " 6195  Royal Rumble (2014)\\n\\nL’édition 2014 du \"\" es...      True\n",
       " 6196  Le Banquet (Xénophon)\\n\\nLe Banquet (en grec a...      True\n",
       " 6197  Heidegger et la métaphysique\\n\\nOn chercherait...      True\n",
       " 6198  Bilan énergétique (statistique)\\n\\nUn bilan én...      True\n",
       " 6199  Régulation des communications électroniques\\n\\...      True\n",
       " 6200  Mémoire au Roi de Desmarets de 1709\\n\\nNicolas...      True\n",
       " 6201  Liberté du commerce et de l'industrie\\n\\nLes t...      True\n",
       " 6202  Histoire de Palerme\\n\\nL'histoire de Palerme d...      True\n",
       " 6203  Personnages de League of Legends\\n\\nLa liste d...      True\n",
       " 6204  Michel Ordener (1787-1862)\\n\\nMichel, comte Or...      True\n",
       " \n",
       " [6205 rows x 2 columns])"
      ]
     },
     "execution_count": 8,
     "metadata": {},
     "output_type": "execute_result"
    }
   ],
   "source": [
    "df_train, df_valid"
   ]
  },
  {
   "cell_type": "code",
   "execution_count": 9,
   "metadata": {},
   "outputs": [],
   "source": [
    "df_regroup = pd.concat([df_train, df_valid])"
   ]
  },
  {
   "cell_type": "code",
   "execution_count": 10,
   "metadata": {},
   "outputs": [],
   "source": [
    "df_regroup.to_csv(PATH/'fulltrain.csv', header=None, index=None)"
   ]
  },
  {
   "cell_type": "markdown",
   "metadata": {},
   "source": [
    "# LM Training\n"
   ]
  },
  {
   "cell_type": "markdown",
   "metadata": {},
   "source": [
    "We train two LM: one with a 60k vocabulary and one with a 30k vocabulary. The two models have different performance and computation needs."
   ]
  },
  {
   "cell_type": "code",
   "execution_count": 3,
   "metadata": {},
   "outputs": [],
   "source": [
    "PATH = Path('data/lm/')\n",
    "tokenizer = Tokenizer(lang='fr', n_cpus=6)"
   ]
  },
  {
   "cell_type": "code",
   "execution_count": 12,
   "metadata": {},
   "outputs": [],
   "source": [
    "data_lm_full = (TextList.from_csv(PATH, csv_name='fulltrain.csv', cols=0, processor=[TokenizeProcessor(tokenizer=tokenizer), NumericalizeProcessor(max_vocab=60000)])\n",
    "           #Inputs: all the text files in path\n",
    "            .split_from_df(col=1)\n",
    "           #We may have other temp folders that contain text files so we only keep what's in train and test\n",
    "            .label_for_lm()           \n",
    "           #We want to do a language model so we label accordingly\n",
    "            .databunch(bs=32))"
   ]
  },
  {
   "cell_type": "code",
   "execution_count": 13,
   "metadata": {},
   "outputs": [],
   "source": [
    "data_lm_full.save('full_lm_60k')"
   ]
  },
  {
   "cell_type": "code",
   "execution_count": 4,
   "metadata": {},
   "outputs": [],
   "source": [
    "data_lm_full = TextLMDataBunch.load(PATH, 'full_lm_60k', bs=32)"
   ]
  },
  {
   "cell_type": "code",
   "execution_count": 15,
   "metadata": {},
   "outputs": [
    {
     "data": {
      "text/plain": [
       "60002"
      ]
     },
     "execution_count": 16,
     "metadata": {},
     "output_type": "execute_result"
    }
   ],
   "source": [
    "len(data_lm_full.train_ds.vocab.itos)"
   ]
  },
  {
   "cell_type": "code",
   "execution_count": 17,
   "metadata": {},
   "outputs": [
    {
     "data": {
      "text/html": [
       "<table>  <col width='5%'>  <col width='95%'>  <tr>\n",
       "    <th>idx</th>\n",
       "    <th>text</th>\n",
       "  </tr>\n",
       "  <tr>\n",
       "    <th>0</th>\n",
       "    <th>xxbos xxmaj entrée des états-unis dans la xxmaj première xxmaj guerre mondiale \\n\\n xxup l' entrée dans la xxmaj première xxmaj guerre mondiale des états-unis se produisit en avril 1917 , après deux ans et demi d' efforts déployés par le président xxmaj woodrow xxmaj wilson pour garder les états-unis neutres dans cette guerre . xxmaj exceptée une partie xxunk soutenant les xxmaj britanniques , l' opinion publique américaine était</th>\n",
       "  </tr>\n",
       "  <tr>\n",
       "    <th>1</th>\n",
       "    <th>il met alors l' accent sur le caractère forcément provisoire et éphémère de la première . \\n « xxmaj si la religion est cet ensemble de vérités soumises à l’ intelligence humaine , la tentative de cette intelligence de les élucider , de les comprendre et surtout de les harmoniser intellectuellement de façon xxunk , se nomme théologie . xxmaj mais comprendre et harmoniser sont des opérations issues d’ une</th>\n",
       "  </tr>\n",
       "  <tr>\n",
       "    <th>2</th>\n",
       "    <th>mais xxmaj eastwood décide de réaliser le film en plus d' y interpréter le rôle du vieil entraîneur . xxmaj hilary xxmaj xxunk est embauchée pour jouer le rôle de la jeune xxunk et xxmaj morgan xxmaj freeman pour interpréter le gardien du gymnase , vieil ami de l' entraîneur . xxmaj le tournage a lieu à xxmaj los xxmaj angeles au début de l' année 2004 . xxmaj eastwood</th>\n",
       "  </tr>\n",
       "  <tr>\n",
       "    <th>3</th>\n",
       "    <th>abord celui qu' offrent les femmes de son foyer , son épouse et sa fille . xxmaj le statut d' infériorité qu' il leur octroie d' évidence implique que , la société accordant sa priorité aux mâles , l' aspect femelle de la nature se trouve moralement xxunk . xxmaj car les femmes ne représentent pas seulement la maternité , mais hors de cet attribut essentiel , xxmaj dombey se</th>\n",
       "  </tr>\n",
       "  <tr>\n",
       "    <th>4</th>\n",
       "    <th>si le grand-oncle de xxmaj sarah , xxmaj james xxmaj temple , a été reconnu coupable de régicide ) et leur loyauté à la couronne , comme celle des xxmaj churchill , se voit récompensée par un emploi à la xxmaj cour : en 1673 , xxmaj sarah a suivi sa sœur xxmaj frances à la résidence de la duchesse d' xxmaj york , xxmaj marie de xxmaj modène ,</th>\n",
       "  </tr>\n",
       "</table>\n"
      ],
      "text/plain": [
       "<IPython.core.display.HTML object>"
      ]
     },
     "metadata": {},
     "output_type": "display_data"
    }
   ],
   "source": [
    "data_lm_full.show_batch()\n",
    "\n"
   ]
  },
  {
   "cell_type": "code",
   "execution_count": 9,
   "metadata": {},
   "outputs": [
    {
     "name": "stdout",
     "output_type": "stream",
     "text": [
      "LR Finder is complete, type {learner_name}.recorder.plot() to see the graph.\n"
     ]
    },
    {
     "data": {
      "image/png": "[encoded data removed]",
      "text/plain": [
       "<Figure size 432x288 with 1 Axes>"
      ]
     },
     "metadata": {},
     "output_type": "display_data"
    }
   ],
   "source": [
    "learn = language_model_learner(data_lm_full, drop_mult=0, qrnn=True, callback_fns=ShowGraph)\n",
    "learn.lr_find()\n",
    "learn.recorder.plot(skip_start=0)"
   ]
  },
  {
   "cell_type": "code",
   "execution_count": 18,
   "metadata": {},
   "outputs": [
    {
     "name": "stdout",
     "output_type": "stream",
     "text": [
      "Total time: 14:32:14\n",
      "epoch  train_loss  valid_loss  accuracy\n",
      "1      3.874567    3.998646    0.304150  (1:27:11)\n",
      "2      3.636466    3.846859    0.310775  (1:27:01)\n",
      "3      3.593106    3.822112    0.312760  (1:27:02)\n",
      "4      3.584104    3.792033    0.314823  (1:27:45)\n",
      "5      3.611241    3.744764    0.319751  (1:27:08)\n",
      "6      3.562205    3.699586    0.325680  (1:27:09)\n",
      "7      3.522145    3.659924    0.331840  (1:27:06)\n",
      "8      3.563134    3.609655    0.339367  (1:27:27)\n",
      "9      3.532401    3.576437    0.345281  (1:27:15)\n",
      "10     3.486668    3.560602    0.347943  (1:27:00)\n",
      "\n"
     ]
    },
    {
     "data": {
      "image/png": "[encoded data removed]",
      "text/plain": [
       "<Figure size 432x288 with 1 Axes>"
      ]
     },
     "metadata": {},
     "output_type": "display_data"
    }
   ],
   "source": [
    "learn = language_model_learner(data_lm_full, drop_mult=0, qrnn=True, callback_fns=ShowGraph)\n",
    "learn.fit_one_cycle(10, 2e-3, moms=(0.8,0.7))"
   ]
  },
  {
   "cell_type": "code",
   "execution_count": 19,
   "metadata": {},
   "outputs": [
    {
     "name": "stdout",
     "output_type": "stream",
     "text": [
      "Total time: 7:14:46\n",
      "epoch  train_loss  valid_loss  accuracy\n",
      "1      3.496704    3.712812    0.324994  (1:26:51)\n",
      "2      3.444194    3.750016    0.320031  (1:26:56)\n",
      "3      3.539182    3.681418    0.327540  (1:26:56)\n",
      "4      3.480575    3.594445    0.340602  (1:27:00)\n",
      "5      3.575246    3.552679    0.348032  (1:26:59)\n",
      "\n"
     ]
    },
    {
     "data": {
      "image/png": "[encoded data removed]",
      "text/plain": [
       "<Figure size 432x288 with 1 Axes>"
      ]
     },
     "metadata": {},
     "output_type": "display_data"
    }
   ],
   "source": [
    "learn.fit_one_cycle(5, 2e-3, moms=(0.8,0.7))"
   ]
  },
  {
   "cell_type": "code",
   "execution_count": 20,
   "metadata": {},
   "outputs": [
    {
     "name": "stdout",
     "output_type": "stream",
     "text": [
      "Total time: 1:28:47\n",
      "epoch  train_loss  valid_loss  accuracy\n",
      "1      3.489192    3.555320    0.348238  (1:28:46)\n",
      "\n"
     ]
    },
    {
     "data": {
      "image/png": "[encoded data removed]",
      "text/plain": [
       "<Figure size 432x288 with 1 Axes>"
      ]
     },
     "metadata": {},
     "output_type": "display_data"
    }
   ],
   "source": [
    "learn.fit_one_cycle(1, 2e-4, moms=(0.8,0.7))"
   ]
  },
  {
   "cell_type": "code",
   "execution_count": 21,
   "metadata": {},
   "outputs": [],
   "source": [
    "learn.save('model-60k-vocab')"
   ]
  },
  {
   "cell_type": "markdown",
   "metadata": {},
   "source": [
    "Now we train a model with a 30k vocabulary.\n",
    "Because of this, batch size can be higher and training is quicker."
   ]
  },
  {
   "cell_type": "code",
   "execution_count": 22,
   "metadata": {},
   "outputs": [],
   "source": [
    "data_lm_full = (TextList.from_csv(PATH, csv_name='fulltrain.csv', cols=0, processor=[TokenizeProcessor(tokenizer=tokenizer), NumericalizeProcessor(max_vocab=30000)])\n",
    "           #Inputs: all the text files in path\n",
    "            .split_from_df(col=1)\n",
    "           #We may have other temp folders that contain text files so we only keep what's in train and test\n",
    "            .label_for_lm()           \n",
    "           #We want to do a language model so we label accordingly\n",
    "            .databunch(bs=64))"
   ]
  },
  {
   "cell_type": "code",
   "execution_count": 23,
   "metadata": {},
   "outputs": [],
   "source": [
    "data_lm_full.save('full_lm_30k')"
   ]
  },
  {
   "cell_type": "code",
   "execution_count": 4,
   "metadata": {},
   "outputs": [],
   "source": [
    "data_lm_full = TextLMDataBunch.load(PATH, 'full_lm_30k', bs=64)"
   ]
  },
  {
   "cell_type": "code",
   "execution_count": 6,
   "metadata": {},
   "outputs": [
    {
     "data": {
      "text/plain": [
       "30002"
      ]
     },
     "execution_count": 6,
     "metadata": {},
     "output_type": "execute_result"
    }
   ],
   "source": [
    "len(data_lm_full.train_ds.vocab.itos)"
   ]
  },
  {
   "cell_type": "code",
   "execution_count": 5,
   "metadata": {},
   "outputs": [],
   "source": [
    "learn = language_model_learner(data_lm_full, drop_mult=0, qrnn=True, callback_fns=ShowGraph)\n"
   ]
  },
  {
   "cell_type": "code",
   "execution_count": 6,
   "metadata": {},
   "outputs": [
    {
     "name": "stdout",
     "output_type": "stream",
     "text": [
      "LR Finder is complete, type {learner_name}.recorder.plot() to see the graph.\n"
     ]
    },
    {
     "data": {
      "image/png": "[encoded data removed]",
      "text/plain": [
       "<Figure size 432x288 with 1 Axes>"
      ]
     },
     "metadata": {},
     "output_type": "display_data"
    }
   ],
   "source": [
    "learn.lr_find()\n",
    "learn.recorder.plot(skip_start=0)"
   ]
  },
  {
   "cell_type": "code",
   "execution_count": 8,
   "metadata": {},
   "outputs": [
    {
     "name": "stdout",
     "output_type": "stream",
     "text": [
      "Total time: 5:53:45\n",
      "epoch  train_loss  valid_loss  accuracy\n",
      "1      3.479924    3.606225    0.315127  (50:35)\n",
      "2      3.308489    3.457322    0.325741  (50:32)\n",
      "3      3.250602    3.386342    0.332229  (50:29)\n",
      "4      3.290317    3.325020    0.339061  (50:29)\n",
      "5      3.190439    3.263015    0.346897  (50:31)\n",
      "6      3.178667    3.212496    0.354239  (50:31)\n",
      "7      3.150851    3.193054    0.357078  (50:33)\n",
      "\n"
     ]
    },
    {
     "data": {
      "image/png": "[encoded data removed]",
      "text/plain": [
       "<Figure size 432x288 with 1 Axes>"
      ]
     },
     "metadata": {},
     "output_type": "display_data"
    }
   ],
   "source": [
    "learn.fit_one_cycle(7, 2e-3)"
   ]
  },
  {
   "cell_type": "code",
   "execution_count": 9,
   "metadata": {},
   "outputs": [],
   "source": [
    "learn.save('model-30k-vocab')"
   ]
  },
  {
   "cell_type": "markdown",
   "metadata": {},
   "source": [
    "The model perplexity is exp(validation loss):"
   ]
  },
  {
   "cell_type": "code",
   "execution_count": 10,
   "metadata": {},
   "outputs": [
    {
     "data": {
      "text/plain": [
       "24.36271768396201"
      ]
     },
     "execution_count": 10,
     "metadata": {},
     "output_type": "execute_result"
    }
   ],
   "source": [
    "np.exp(3.193054)"
   ]
  },
  {
   "cell_type": "code",
   "execution_count": 13,
   "metadata": {},
   "outputs": [],
   "source": [
    "learn.save('model-30k-vocab')"
   ]
  }
 ],
 "metadata": {
  "kernelspec": {
   "display_name": "Python 3",
   "language": "python",
   "name": "python3"
  },
  "language_info": {
   "codemirror_mode": {
    "name": "ipython",
    "version": 3
   },
   "file_extension": ".py",
   "mimetype": "text/x-python",
   "name": "python",
   "nbconvert_exporter": "python",
   "pygments_lexer": "ipython3",
   "version": "3.11.1 (tags/v3.11.1:a7a450f, Dec  6 2022, 19:58:39) [MSC v.1934 64 bit (AMD64)]"
  },
  "vscode": {
   "interpreter": {
    "hash": "7fec288785592db851033a989a10ac1b10b076b2b65fa461ca1a278c2713872e"
   }
  }
 },
 "nbformat": 4,
 "nbformat_minor": 2
}
